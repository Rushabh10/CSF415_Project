{
 "cells": [
  {
   "cell_type": "markdown",
   "metadata": {},
   "source": [
    "## Importing Libraries and Opening Files\n",
    "We Import pandas and numpy for this task"
   ]
  },
  {
   "cell_type": "code",
   "execution_count": 1,
   "metadata": {},
   "outputs": [
    {
     "name": "stdout",
     "output_type": "stream",
     "text": [
      "                    State_Name District_Name  Crop_Year       Season  \\\n",
      "0  Andaman and Nicobar Islands      NICOBARS       2000  Kharif        \n",
      "1  Andaman and Nicobar Islands      NICOBARS       2000  Kharif        \n",
      "2  Andaman and Nicobar Islands      NICOBARS       2000  Kharif        \n",
      "3  Andaman and Nicobar Islands      NICOBARS       2000  Whole Year    \n",
      "4  Andaman and Nicobar Islands      NICOBARS       2000  Whole Year    \n",
      "\n",
      "                  Crop    Area  Production  \n",
      "0             Arecanut  1254.0      2000.0  \n",
      "1  Other Kharif pulses     2.0         1.0  \n",
      "2                 Rice   102.0       321.0  \n",
      "3               Banana   176.0       641.0  \n",
      "4            Cashewnut   720.0       165.0  \n"
     ]
    }
   ],
   "source": [
    "import pandas as pd\n",
    "import numpy as np\n",
    "df=pd.read_csv(\"../data_folder/apy.csv\")\n",
    "print(df.head())\n",
    "df = df.head(1000)\n"
   ]
  },
  {
   "cell_type": "markdown",
   "metadata": {},
   "source": [
    "## We set the blank cells to NaN and drop the rows for which we have no data\n"
   ]
  },
  {
   "cell_type": "code",
   "execution_count": 2,
   "metadata": {},
   "outputs": [
    {
     "name": "stdout",
     "output_type": "stream",
     "text": [
      "                                Area  Production\n",
      "Crop                                            \n",
      "Arecanut                    38294.82    51431.81\n",
      "Arhar/Tur                  636021.00   150664.00\n",
      "Bajra                       32825.00    27088.00\n",
      "Banana                      45157.89  1798958.65\n",
      "Beans & Mutter(Vegetable)       1.00        5.00\n",
      "(994, 7)\n"
     ]
    }
   ],
   "source": [
    "df=df.replace(r'^\\s*$', np.nan, regex=True)\n",
    "df2=df.groupby('Crop')[['Area', 'Production']].sum()\n",
    "print(df2.head())\n",
    "\n",
    "for indexes, row in df.iterrows():\n",
    "    if(df2.loc[row['Crop']]['Production']==0):\n",
    "        df.drop(df.index[indexes], inplace=True)\n",
    "print(df.shape)"
   ]
  },
  {
   "cell_type": "markdown",
   "metadata": {},
   "source": [
    "## Replacing NaNs with mean value of that crop per unit area times area of that crop in particular district"
   ]
  },
  {
   "cell_type": "code",
   "execution_count": 3,
   "metadata": {},
   "outputs": [],
   "source": [
    "for indexes, row in df.iterrows():\n",
    "    if(pd.isna(df.loc[indexes]['Production'])):\n",
    "        df.at[indexes, 'Production'] = (df2.loc[df.loc[indexes]['Crop']]['Production']/df2.loc[df.loc[indexes]['Crop']]['Area'])*(df.loc[indexes]['Area'])"
   ]
  },
  {
   "cell_type": "markdown",
   "metadata": {},
   "source": [
    "Replacing each year with year-year%3, so we can make year ranges of 3 years"
   ]
  },
  {
   "cell_type": "code",
   "execution_count": 4,
   "metadata": {},
   "outputs": [],
   "source": [
    "for indexes, row in df.iterrows():\n",
    "    crop_year=df.at[indexes, 'Crop_Year']\n",
    "    df.at[indexes, 'Crop_Year']=crop_year-crop_year%3\n"
   ]
  },
  {
   "cell_type": "markdown",
   "metadata": {},
   "source": [
    "## Binning data into groups of 3 years\n",
    "and grouping by district, crop, year range, season"
   ]
  },
  {
   "cell_type": "code",
   "execution_count": 5,
   "metadata": {},
   "outputs": [
    {
     "name": "stdout",
     "output_type": "stream",
     "text": [
      "                                                              Area  Production\n",
      "District_Name Season      Year_Range Crop                                     \n",
      "ANANTAPUR     Kharif      1995-1998  Arhar/Tur             21400.0      2600.0\n",
      "                                     Bajra                  1400.0       500.0\n",
      "                                     Castor seed            1000.0       100.0\n",
      "                                     Cotton(lint)           7300.0      9400.0\n",
      "                                     Dry chillies           3700.0      7100.0\n",
      "                                     Groundnut            650800.0    228400.0\n",
      "                                     Horse-gram             3300.0      1000.0\n",
      "                                     Jowar                 10100.0     10200.0\n",
      "                                     Korra                  2200.0       700.0\n",
      "                                     Maize                  2800.0      4900.0\n",
      "                                     Moong(Green Gram)      1300.0       500.0\n",
      "                                     Other Kharif pulses     800.0       100.0\n",
      "                                     Ragi                   6700.0     11800.0\n",
      "                                     Rice                  35600.0     75400.0\n",
      "                                     Sugarcane               700.0     72900.0\n"
     ]
    }
   ],
   "source": [
    "foo = df['Crop_Year'].to_numpy()\n",
    "foo_string = [str(x)+\"-\"+ str(x+3) for x in foo]\n",
    "df['Year_Range'] = foo_string\n",
    "df=df.drop('Crop_Year', axis=1)\n",
    "df_new=df.groupby(['District_Name', 'Season', 'Year_Range', 'Crop']).sum()\n",
    "print(df_new.head(15))"
   ]
  },
  {
   "cell_type": "markdown",
   "metadata": {},
   "source": [
    "saving as a new CSV file"
   ]
  },
  {
   "cell_type": "code",
   "execution_count": 6,
   "metadata": {},
   "outputs": [],
   "source": [
    "df_new.to_csv(r'../data_folder/apy_apdated.csv')"
   ]
  },
  {
   "cell_type": "code",
   "execution_count": 7,
   "metadata": {},
   "outputs": [
    {
     "name": "stdout",
     "output_type": "stream",
     "text": [
      "                                Area    Production\n",
      "Crop                                              \n",
      "Arecanut                    37938.82  5.233143e+04\n",
      "Arhar/Tur                  636021.00  1.506640e+05\n",
      "Bajra                       32825.00  2.708800e+04\n",
      "Banana                      45157.89  1.798959e+06\n",
      "Beans & Mutter(Vegetable)       1.00  5.000000e+00\n"
     ]
    }
   ],
   "source": [
    "import seaborn as sns\n",
    "sns.set(style=\"whitegrid\")\n",
    "df_wheat=df.groupby('Crop').sum()\n",
    "print(df_wheat.head())\n",
    "df_wheat.reset_index(inplace=True)\n",
    "ax = sns.barplot(x=\"Crop\", y=\"Production\", data=df_wheat.iloc[0:3])"
   ]
  },
  {
   "cell_type": "markdown",
   "metadata": {},
   "source": [
    "## We'll do further analysis to compare the productivity on a season wise basis"
   ]
  },
  {
   "cell_type": "code",
   "execution_count": 8,
   "metadata": {},
   "outputs": [
    {
     "data": {
      "text/html": [
       "<div>\n",
       "<style scoped>\n",
       "    .dataframe tbody tr th:only-of-type {\n",
       "        vertical-align: middle;\n",
       "    }\n",
       "\n",
       "    .dataframe tbody tr th {\n",
       "        vertical-align: top;\n",
       "    }\n",
       "\n",
       "    .dataframe thead th {\n",
       "        text-align: right;\n",
       "    }\n",
       "</style>\n",
       "<table border=\"1\" class=\"dataframe\">\n",
       "  <thead>\n",
       "    <tr style=\"text-align: right;\">\n",
       "      <th></th>\n",
       "      <th>State_Name</th>\n",
       "      <th>District_Name</th>\n",
       "      <th>Crop_Year</th>\n",
       "      <th>Season</th>\n",
       "      <th>Crop</th>\n",
       "      <th>Area</th>\n",
       "      <th>Production</th>\n",
       "    </tr>\n",
       "  </thead>\n",
       "  <tbody>\n",
       "    <tr>\n",
       "      <th>0</th>\n",
       "      <td>Andaman and Nicobar Islands</td>\n",
       "      <td>NICOBARS</td>\n",
       "      <td>2000</td>\n",
       "      <td>Kharif</td>\n",
       "      <td>Arecanut</td>\n",
       "      <td>1254.0</td>\n",
       "      <td>2000.0</td>\n",
       "    </tr>\n",
       "    <tr>\n",
       "      <th>1</th>\n",
       "      <td>Andaman and Nicobar Islands</td>\n",
       "      <td>NICOBARS</td>\n",
       "      <td>2000</td>\n",
       "      <td>Kharif</td>\n",
       "      <td>Other Kharif pulses</td>\n",
       "      <td>2.0</td>\n",
       "      <td>1.0</td>\n",
       "    </tr>\n",
       "    <tr>\n",
       "      <th>2</th>\n",
       "      <td>Andaman and Nicobar Islands</td>\n",
       "      <td>NICOBARS</td>\n",
       "      <td>2000</td>\n",
       "      <td>Kharif</td>\n",
       "      <td>Rice</td>\n",
       "      <td>102.0</td>\n",
       "      <td>321.0</td>\n",
       "    </tr>\n",
       "    <tr>\n",
       "      <th>3</th>\n",
       "      <td>Andaman and Nicobar Islands</td>\n",
       "      <td>NICOBARS</td>\n",
       "      <td>2000</td>\n",
       "      <td>Whole Year</td>\n",
       "      <td>Banana</td>\n",
       "      <td>176.0</td>\n",
       "      <td>641.0</td>\n",
       "    </tr>\n",
       "    <tr>\n",
       "      <th>4</th>\n",
       "      <td>Andaman and Nicobar Islands</td>\n",
       "      <td>NICOBARS</td>\n",
       "      <td>2000</td>\n",
       "      <td>Whole Year</td>\n",
       "      <td>Cashewnut</td>\n",
       "      <td>720.0</td>\n",
       "      <td>165.0</td>\n",
       "    </tr>\n",
       "  </tbody>\n",
       "</table>\n",
       "</div>"
      ],
      "text/plain": [
       "                    State_Name District_Name  Crop_Year       Season  \\\n",
       "0  Andaman and Nicobar Islands      NICOBARS       2000  Kharif        \n",
       "1  Andaman and Nicobar Islands      NICOBARS       2000  Kharif        \n",
       "2  Andaman and Nicobar Islands      NICOBARS       2000  Kharif        \n",
       "3  Andaman and Nicobar Islands      NICOBARS       2000  Whole Year    \n",
       "4  Andaman and Nicobar Islands      NICOBARS       2000  Whole Year    \n",
       "\n",
       "                  Crop    Area  Production  \n",
       "0             Arecanut  1254.0      2000.0  \n",
       "1  Other Kharif pulses     2.0         1.0  \n",
       "2                 Rice   102.0       321.0  \n",
       "3               Banana   176.0       641.0  \n",
       "4            Cashewnut   720.0       165.0  "
      ]
     },
     "execution_count": 8,
     "metadata": {},
     "output_type": "execute_result"
    }
   ],
   "source": [
    "df = pd.read_csv(\"../data_folder/apy.csv\")\n",
    "df.head()"
   ]
  },
  {
   "cell_type": "code",
   "execution_count": 9,
   "metadata": {},
   "outputs": [
    {
     "data": {
      "text/html": [
       "<div>\n",
       "<style scoped>\n",
       "    .dataframe tbody tr th:only-of-type {\n",
       "        vertical-align: middle;\n",
       "    }\n",
       "\n",
       "    .dataframe tbody tr th {\n",
       "        vertical-align: top;\n",
       "    }\n",
       "\n",
       "    .dataframe thead th {\n",
       "        text-align: right;\n",
       "    }\n",
       "</style>\n",
       "<table border=\"1\" class=\"dataframe\">\n",
       "  <thead>\n",
       "    <tr style=\"text-align: right;\">\n",
       "      <th></th>\n",
       "      <th>Season</th>\n",
       "      <th>Area</th>\n",
       "      <th>Production</th>\n",
       "    </tr>\n",
       "  </thead>\n",
       "  <tbody>\n",
       "    <tr>\n",
       "      <th>0</th>\n",
       "      <td>Kharif</td>\n",
       "      <td>1254.0</td>\n",
       "      <td>2000.0</td>\n",
       "    </tr>\n",
       "    <tr>\n",
       "      <th>1</th>\n",
       "      <td>Kharif</td>\n",
       "      <td>2.0</td>\n",
       "      <td>1.0</td>\n",
       "    </tr>\n",
       "    <tr>\n",
       "      <th>2</th>\n",
       "      <td>Kharif</td>\n",
       "      <td>102.0</td>\n",
       "      <td>321.0</td>\n",
       "    </tr>\n",
       "    <tr>\n",
       "      <th>3</th>\n",
       "      <td>Whole Year</td>\n",
       "      <td>176.0</td>\n",
       "      <td>641.0</td>\n",
       "    </tr>\n",
       "    <tr>\n",
       "      <th>4</th>\n",
       "      <td>Whole Year</td>\n",
       "      <td>720.0</td>\n",
       "      <td>165.0</td>\n",
       "    </tr>\n",
       "  </tbody>\n",
       "</table>\n",
       "</div>"
      ],
      "text/plain": [
       "        Season    Area  Production\n",
       "0  Kharif       1254.0      2000.0\n",
       "1  Kharif          2.0         1.0\n",
       "2  Kharif        102.0       321.0\n",
       "3  Whole Year    176.0       641.0\n",
       "4  Whole Year    720.0       165.0"
      ]
     },
     "execution_count": 9,
     "metadata": {},
     "output_type": "execute_result"
    }
   ],
   "source": [
    "df = df.drop([\"State_Name\", \"District_Name\", \"Crop\", \"Crop_Year\"], 1)\n",
    "df.head()"
   ]
  },
  {
   "cell_type": "code",
   "execution_count": 10,
   "metadata": {},
   "outputs": [
    {
     "data": {
      "text/html": [
       "<div>\n",
       "<style scoped>\n",
       "    .dataframe tbody tr th:only-of-type {\n",
       "        vertical-align: middle;\n",
       "    }\n",
       "\n",
       "    .dataframe tbody tr th {\n",
       "        vertical-align: top;\n",
       "    }\n",
       "\n",
       "    .dataframe thead th {\n",
       "        text-align: right;\n",
       "    }\n",
       "</style>\n",
       "<table border=\"1\" class=\"dataframe\">\n",
       "  <thead>\n",
       "    <tr style=\"text-align: right;\">\n",
       "      <th></th>\n",
       "      <th>Area</th>\n",
       "      <th>Production</th>\n",
       "    </tr>\n",
       "    <tr>\n",
       "      <th>Season</th>\n",
       "      <th></th>\n",
       "      <th></th>\n",
       "    </tr>\n",
       "  </thead>\n",
       "  <tbody>\n",
       "    <tr>\n",
       "      <th>Autumn</th>\n",
       "      <td>4.807113e+07</td>\n",
       "      <td>6.441377e+07</td>\n",
       "    </tr>\n",
       "    <tr>\n",
       "      <th>Kharif</th>\n",
       "      <td>1.404845e+09</td>\n",
       "      <td>4.029970e+09</td>\n",
       "    </tr>\n",
       "    <tr>\n",
       "      <th>Rabi</th>\n",
       "      <td>9.479874e+08</td>\n",
       "      <td>2.051688e+09</td>\n",
       "    </tr>\n",
       "    <tr>\n",
       "      <th>Summer</th>\n",
       "      <td>7.598406e+07</td>\n",
       "      <td>1.706579e+08</td>\n",
       "    </tr>\n",
       "    <tr>\n",
       "      <th>Whole Year</th>\n",
       "      <td>2.573005e+08</td>\n",
       "      <td>1.344248e+11</td>\n",
       "    </tr>\n",
       "    <tr>\n",
       "      <th>Winter</th>\n",
       "      <td>2.195979e+08</td>\n",
       "      <td>4.345498e+08</td>\n",
       "    </tr>\n",
       "  </tbody>\n",
       "</table>\n",
       "</div>"
      ],
      "text/plain": [
       "                     Area    Production\n",
       "Season                                 \n",
       "Autumn       4.807113e+07  6.441377e+07\n",
       "Kharif       1.404845e+09  4.029970e+09\n",
       "Rabi         9.479874e+08  2.051688e+09\n",
       "Summer       7.598406e+07  1.706579e+08\n",
       "Whole Year   2.573005e+08  1.344248e+11\n",
       "Winter       2.195979e+08  4.345498e+08"
      ]
     },
     "execution_count": 10,
     "metadata": {},
     "output_type": "execute_result"
    }
   ],
   "source": [
    "df = df.groupby([\"Season\"]).sum()\n",
    "df"
   ]
  },
  {
   "cell_type": "code",
   "execution_count": 11,
   "metadata": {},
   "outputs": [],
   "source": [
    "df[\"Prod/Area\"] = df[\"Production\"]/df[\"Area\"]"
   ]
  },
  {
   "cell_type": "code",
   "execution_count": 12,
   "metadata": {},
   "outputs": [],
   "source": [
    "df = df.reset_index()"
   ]
  },
  {
   "cell_type": "code",
   "execution_count": 13,
   "metadata": {},
   "outputs": [
    {
     "data": {
      "text/html": [
       "<div>\n",
       "<style scoped>\n",
       "    .dataframe tbody tr th:only-of-type {\n",
       "        vertical-align: middle;\n",
       "    }\n",
       "\n",
       "    .dataframe tbody tr th {\n",
       "        vertical-align: top;\n",
       "    }\n",
       "\n",
       "    .dataframe thead th {\n",
       "        text-align: right;\n",
       "    }\n",
       "</style>\n",
       "<table border=\"1\" class=\"dataframe\">\n",
       "  <thead>\n",
       "    <tr style=\"text-align: right;\">\n",
       "      <th></th>\n",
       "      <th>Season</th>\n",
       "      <th>Area</th>\n",
       "      <th>Production</th>\n",
       "      <th>Prod/Area</th>\n",
       "    </tr>\n",
       "  </thead>\n",
       "  <tbody>\n",
       "    <tr>\n",
       "      <th>0</th>\n",
       "      <td>Autumn</td>\n",
       "      <td>4.807113e+07</td>\n",
       "      <td>6.441377e+07</td>\n",
       "      <td>1.339968</td>\n",
       "    </tr>\n",
       "    <tr>\n",
       "      <th>1</th>\n",
       "      <td>Kharif</td>\n",
       "      <td>1.404845e+09</td>\n",
       "      <td>4.029970e+09</td>\n",
       "      <td>2.868622</td>\n",
       "    </tr>\n",
       "    <tr>\n",
       "      <th>2</th>\n",
       "      <td>Rabi</td>\n",
       "      <td>9.479874e+08</td>\n",
       "      <td>2.051688e+09</td>\n",
       "      <td>2.164256</td>\n",
       "    </tr>\n",
       "    <tr>\n",
       "      <th>3</th>\n",
       "      <td>Summer</td>\n",
       "      <td>7.598406e+07</td>\n",
       "      <td>1.706579e+08</td>\n",
       "      <td>2.245970</td>\n",
       "    </tr>\n",
       "    <tr>\n",
       "      <th>4</th>\n",
       "      <td>Whole Year</td>\n",
       "      <td>2.573005e+08</td>\n",
       "      <td>1.344248e+11</td>\n",
       "      <td>522.443040</td>\n",
       "    </tr>\n",
       "    <tr>\n",
       "      <th>5</th>\n",
       "      <td>Winter</td>\n",
       "      <td>2.195979e+08</td>\n",
       "      <td>4.345498e+08</td>\n",
       "      <td>1.978843</td>\n",
       "    </tr>\n",
       "  </tbody>\n",
       "</table>\n",
       "</div>"
      ],
      "text/plain": [
       "        Season          Area    Production   Prod/Area\n",
       "0  Autumn       4.807113e+07  6.441377e+07    1.339968\n",
       "1  Kharif       1.404845e+09  4.029970e+09    2.868622\n",
       "2  Rabi         9.479874e+08  2.051688e+09    2.164256\n",
       "3  Summer       7.598406e+07  1.706579e+08    2.245970\n",
       "4  Whole Year   2.573005e+08  1.344248e+11  522.443040\n",
       "5  Winter       2.195979e+08  4.345498e+08    1.978843"
      ]
     },
     "execution_count": 13,
     "metadata": {},
     "output_type": "execute_result"
    }
   ],
   "source": [
    "df[df.Season != 'Whole Year']"
   ]
  },
  {
   "cell_type": "code",
   "execution_count": 14,
   "metadata": {},
   "outputs": [],
   "source": [
    "y_list = [1.339968, 2.868622, 2.164256, 2.245970, 1.978843]\n",
    "x_list = [\"Autumn\", \"Kharif\", \"Rabi\", \"Summer\", \"Winter\"]"
   ]
  },
  {
   "cell_type": "code",
   "execution_count": 15,
   "metadata": {},
   "outputs": [
    {
     "data": {
      "text/plain": [
       "[Text(0, 0.5, 'Production/Area'), Text(0.5, 0, 'Season')]"
      ]
     },
     "execution_count": 15,
     "metadata": {},
     "output_type": "execute_result"
    },
    {
     "data": {
      "image/png": "[encoded data removed]",
      "text/plain": [
       "<Figure size 432x288 with 1 Axes>"
      ]
     },
     "metadata": {
      "needs_background": "light"
     },
     "output_type": "display_data"
    }
   ],
   "source": [
    "ax = sns.barplot(x=x_list, y=y_list)\n",
    "ax.set(xlabel='Season', ylabel='Production/Area')"
   ]
  },
  {
   "cell_type": "code",
   "execution_count": null,
   "metadata": {},
   "outputs": [],
   "source": []
  }
 ],
 "metadata": {
  "kernelspec": {
   "display_name": "Python 3",
   "language": "python",
   "name": "python3"
  },
  "language_info": {
   "codemirror_mode": {
    "name": "ipython",
    "version": 3
   },
   "file_extension": ".py",
   "mimetype": "text/x-python",
   "name": "python",
   "nbconvert_exporter": "python",
   "pygments_lexer": "ipython3",
   "version": "3.7.3"
  }
 },
 "nbformat": 4,
 "nbformat_minor": 2
}
