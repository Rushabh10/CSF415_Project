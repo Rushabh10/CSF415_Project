{
 "cells": [
  {
   "cell_type": "code",
   "execution_count": 1,
   "metadata": {},
   "outputs": [],
   "source": [
    "import pandas as pd\n",
    "import numpy as np\n",
    "import matplotlib.pyplot as plt\n",
    "import seaborn as sns\n",
    "import plotly\n",
    "import plotly.graph_objs as go\n",
    "import random as rd\n",
    "import plotly.express as px"
   ]
  },
  {
   "cell_type": "code",
   "execution_count": 2,
   "metadata": {},
   "outputs": [
    {
     "data": {
      "text/html": [
       "<div>\n",
       "<style scoped>\n",
       "    .dataframe tbody tr th:only-of-type {\n",
       "        vertical-align: middle;\n",
       "    }\n",
       "\n",
       "    .dataframe tbody tr th {\n",
       "        vertical-align: top;\n",
       "    }\n",
       "\n",
       "    .dataframe thead th {\n",
       "        text-align: right;\n",
       "    }\n",
       "</style>\n",
       "<table border=\"1\" class=\"dataframe\">\n",
       "  <thead>\n",
       "    <tr style=\"text-align: right;\">\n",
       "      <th></th>\n",
       "      <th>B.O.D. (mg/l) : Max : &lt; 3 mg/l</th>\n",
       "      <th>B.O.D. (mg/l) : Mean : &lt; 3 mg/l</th>\n",
       "      <th>B.O.D. (mg/l) : Min : &lt; 3 mg/l</th>\n",
       "      <th>CONDUCTIVITY (µmhos/cm) : Max</th>\n",
       "      <th>CONDUCTIVITY (µmhos/cm) : Mean</th>\n",
       "      <th>CONDUCTIVITY (µmhos/cm) : Min</th>\n",
       "      <th>FECAL COLIFORM (MPN/100ml) : Max : &lt; 2500 MPN/100ml</th>\n",
       "      <th>FECAL COLIFORM (MPN/100ml) : Mean : &lt; 2500 MPN/100ml</th>\n",
       "      <th>FECAL COLIFORM (MPN/100ml) : Min : &lt; 2500 MPN/100ml</th>\n",
       "      <th>NITRATE- N+ NITRITE-N (mg/l) : Max</th>\n",
       "      <th>...</th>\n",
       "      <th>FECAL COLIFORM (MPN/100ml) : Min : &lt; 2500 MPN/100ml_imp</th>\n",
       "      <th>TEMPERATURE ºC : Max_imp</th>\n",
       "      <th>TEMPERATURE ºC : Mean_imp</th>\n",
       "      <th>TEMPERATURE ºC : Min_imp</th>\n",
       "      <th>TOTAL COLIFORM (MPN/100ml) : Max : &lt; 5000 MPN/100ml_imp</th>\n",
       "      <th>TOTAL COLIFORM (MPN/100ml) : Mean : &lt; 5000 MPN/100ml_imp</th>\n",
       "      <th>TOTAL COLIFORM (MPN/100ml) : Min : &lt; 5000 MPN/100ml_imp</th>\n",
       "      <th>STATION CODE</th>\n",
       "      <th>LOCATIONS</th>\n",
       "      <th>State</th>\n",
       "    </tr>\n",
       "  </thead>\n",
       "  <tbody>\n",
       "    <tr>\n",
       "      <th>0</th>\n",
       "      <td>3.007691</td>\n",
       "      <td>2.704289</td>\n",
       "      <td>2.055596</td>\n",
       "      <td>2050.0</td>\n",
       "      <td>2050.0</td>\n",
       "      <td>2050.0</td>\n",
       "      <td>2103.670076</td>\n",
       "      <td>1012.297065</td>\n",
       "      <td>538.345224</td>\n",
       "      <td>2.5</td>\n",
       "      <td>...</td>\n",
       "      <td>562.276498</td>\n",
       "      <td>23.0</td>\n",
       "      <td>23.0</td>\n",
       "      <td>23.0</td>\n",
       "      <td>400.0</td>\n",
       "      <td>400.0</td>\n",
       "      <td>400.0</td>\n",
       "      <td>1513.0</td>\n",
       "      <td>B W. - KRISHNA MURTHY, D.NO. 48-16-43 AUTONAGA...</td>\n",
       "      <td>andhra_pradesh</td>\n",
       "    </tr>\n",
       "    <tr>\n",
       "      <th>1</th>\n",
       "      <td>3.052192</td>\n",
       "      <td>2.674690</td>\n",
       "      <td>2.120912</td>\n",
       "      <td>1639.0</td>\n",
       "      <td>1639.0</td>\n",
       "      <td>1639.0</td>\n",
       "      <td>2168.155336</td>\n",
       "      <td>999.446762</td>\n",
       "      <td>549.379951</td>\n",
       "      <td>1.2</td>\n",
       "      <td>...</td>\n",
       "      <td>562.276498</td>\n",
       "      <td>23.0</td>\n",
       "      <td>23.0</td>\n",
       "      <td>23.0</td>\n",
       "      <td>400.0</td>\n",
       "      <td>400.0</td>\n",
       "      <td>400.0</td>\n",
       "      <td>1514.0</td>\n",
       "      <td>B/W. - VIJAY KUMAR AUTONAGAR VIJAYAWADA, KRISH...</td>\n",
       "      <td>andhra_pradesh</td>\n",
       "    </tr>\n",
       "    <tr>\n",
       "      <th>2</th>\n",
       "      <td>0.600000</td>\n",
       "      <td>0.600000</td>\n",
       "      <td>0.600000</td>\n",
       "      <td>1569.0</td>\n",
       "      <td>1569.0</td>\n",
       "      <td>1569.0</td>\n",
       "      <td>1939.348276</td>\n",
       "      <td>1041.665742</td>\n",
       "      <td>517.941536</td>\n",
       "      <td>2.8</td>\n",
       "      <td>...</td>\n",
       "      <td>562.276498</td>\n",
       "      <td>19.0</td>\n",
       "      <td>19.0</td>\n",
       "      <td>19.0</td>\n",
       "      <td>400.0</td>\n",
       "      <td>400.0</td>\n",
       "      <td>400.0</td>\n",
       "      <td>1515.0</td>\n",
       "      <td>B/W. - NAGARAM(V), PALVONCHA, KHAMMAM DIST., A.P.</td>\n",
       "      <td>andhra_pradesh</td>\n",
       "    </tr>\n",
       "    <tr>\n",
       "      <th>3</th>\n",
       "      <td>2.945170</td>\n",
       "      <td>2.724950</td>\n",
       "      <td>2.009315</td>\n",
       "      <td>1119.0</td>\n",
       "      <td>1119.0</td>\n",
       "      <td>1119.0</td>\n",
       "      <td>2429.417486</td>\n",
       "      <td>948.724149</td>\n",
       "      <td>590.080390</td>\n",
       "      <td>0.5</td>\n",
       "      <td>...</td>\n",
       "      <td>562.276498</td>\n",
       "      <td>29.0</td>\n",
       "      <td>29.0</td>\n",
       "      <td>29.0</td>\n",
       "      <td>400.0</td>\n",
       "      <td>400.0</td>\n",
       "      <td>400.0</td>\n",
       "      <td>1516.0</td>\n",
       "      <td>B W OF NAVLOK GARDENS NELLORE AP</td>\n",
       "      <td>andhra_pradesh</td>\n",
       "    </tr>\n",
       "    <tr>\n",
       "      <th>4</th>\n",
       "      <td>1.000000</td>\n",
       "      <td>0.900000</td>\n",
       "      <td>0.800000</td>\n",
       "      <td>1950.0</td>\n",
       "      <td>1687.0</td>\n",
       "      <td>1520.0</td>\n",
       "      <td>0.000000</td>\n",
       "      <td>0.000000</td>\n",
       "      <td>0.000000</td>\n",
       "      <td>8.0</td>\n",
       "      <td>...</td>\n",
       "      <td>0.000000</td>\n",
       "      <td>30.6</td>\n",
       "      <td>28.5</td>\n",
       "      <td>27.0</td>\n",
       "      <td>40.0</td>\n",
       "      <td>32.0</td>\n",
       "      <td>20.0</td>\n",
       "      <td>1517.0</td>\n",
       "      <td>B/W. - TUNGBHADRA RIVER NEAR KURNOOL, A.P.</td>\n",
       "      <td>andhra_pradesh</td>\n",
       "    </tr>\n",
       "  </tbody>\n",
       "</table>\n",
       "<p>5 rows × 39 columns</p>\n",
       "</div>"
      ],
      "text/plain": [
       "   B.O.D. (mg/l) : Max : < 3 mg/l  B.O.D. (mg/l) : Mean : < 3 mg/l  \\\n",
       "0                        3.007691                         2.704289   \n",
       "1                        3.052192                         2.674690   \n",
       "2                        0.600000                         0.600000   \n",
       "3                        2.945170                         2.724950   \n",
       "4                        1.000000                         0.900000   \n",
       "\n",
       "   B.O.D. (mg/l) : Min : < 3 mg/l  CONDUCTIVITY (µmhos/cm) : Max  \\\n",
       "0                        2.055596                         2050.0   \n",
       "1                        2.120912                         1639.0   \n",
       "2                        0.600000                         1569.0   \n",
       "3                        2.009315                         1119.0   \n",
       "4                        0.800000                         1950.0   \n",
       "\n",
       "   CONDUCTIVITY (µmhos/cm) : Mean  CONDUCTIVITY (µmhos/cm) : Min  \\\n",
       "0                          2050.0                         2050.0   \n",
       "1                          1639.0                         1639.0   \n",
       "2                          1569.0                         1569.0   \n",
       "3                          1119.0                         1119.0   \n",
       "4                          1687.0                         1520.0   \n",
       "\n",
       "   FECAL COLIFORM (MPN/100ml) : Max : < 2500 MPN/100ml  \\\n",
       "0                                        2103.670076     \n",
       "1                                        2168.155336     \n",
       "2                                        1939.348276     \n",
       "3                                        2429.417486     \n",
       "4                                           0.000000     \n",
       "\n",
       "   FECAL COLIFORM (MPN/100ml) : Mean : < 2500 MPN/100ml  \\\n",
       "0                                        1012.297065      \n",
       "1                                         999.446762      \n",
       "2                                        1041.665742      \n",
       "3                                         948.724149      \n",
       "4                                           0.000000      \n",
       "\n",
       "   FECAL COLIFORM (MPN/100ml) : Min : < 2500 MPN/100ml  \\\n",
       "0                                         538.345224     \n",
       "1                                         549.379951     \n",
       "2                                         517.941536     \n",
       "3                                         590.080390     \n",
       "4                                           0.000000     \n",
       "\n",
       "   NITRATE- N+ NITRITE-N (mg/l) : Max  ...  \\\n",
       "0                                 2.5  ...   \n",
       "1                                 1.2  ...   \n",
       "2                                 2.8  ...   \n",
       "3                                 0.5  ...   \n",
       "4                                 8.0  ...   \n",
       "\n",
       "   FECAL COLIFORM (MPN/100ml) : Min : < 2500 MPN/100ml_imp  \\\n",
       "0                                         562.276498         \n",
       "1                                         562.276498         \n",
       "2                                         562.276498         \n",
       "3                                         562.276498         \n",
       "4                                           0.000000         \n",
       "\n",
       "   TEMPERATURE ºC : Max_imp  TEMPERATURE ºC : Mean_imp  \\\n",
       "0                      23.0                       23.0   \n",
       "1                      23.0                       23.0   \n",
       "2                      19.0                       19.0   \n",
       "3                      29.0                       29.0   \n",
       "4                      30.6                       28.5   \n",
       "\n",
       "   TEMPERATURE ºC : Min_imp  \\\n",
       "0                      23.0   \n",
       "1                      23.0   \n",
       "2                      19.0   \n",
       "3                      29.0   \n",
       "4                      27.0   \n",
       "\n",
       "   TOTAL COLIFORM (MPN/100ml) : Max : < 5000 MPN/100ml_imp  \\\n",
       "0                                              400.0         \n",
       "1                                              400.0         \n",
       "2                                              400.0         \n",
       "3                                              400.0         \n",
       "4                                               40.0         \n",
       "\n",
       "   TOTAL COLIFORM (MPN/100ml) : Mean : < 5000 MPN/100ml_imp  \\\n",
       "0                                              400.0          \n",
       "1                                              400.0          \n",
       "2                                              400.0          \n",
       "3                                              400.0          \n",
       "4                                               32.0          \n",
       "\n",
       "   TOTAL COLIFORM (MPN/100ml) : Min : < 5000 MPN/100ml_imp  STATION CODE  \\\n",
       "0                                              400.0              1513.0   \n",
       "1                                              400.0              1514.0   \n",
       "2                                              400.0              1515.0   \n",
       "3                                              400.0              1516.0   \n",
       "4                                               20.0              1517.0   \n",
       "\n",
       "                                           LOCATIONS           State  \n",
       "0  B W. - KRISHNA MURTHY, D.NO. 48-16-43 AUTONAGA...  andhra_pradesh  \n",
       "1  B/W. - VIJAY KUMAR AUTONAGAR VIJAYAWADA, KRISH...  andhra_pradesh  \n",
       "2  B/W. - NAGARAM(V), PALVONCHA, KHAMMAM DIST., A.P.  andhra_pradesh  \n",
       "3                   B W OF NAVLOK GARDENS NELLORE AP  andhra_pradesh  \n",
       "4         B/W. - TUNGBHADRA RIVER NEAR KURNOOL, A.P.  andhra_pradesh  \n",
       "\n",
       "[5 rows x 39 columns]"
      ]
     },
     "execution_count": 2,
     "metadata": {},
     "output_type": "execute_result"
    }
   ],
   "source": [
    "df_water = pd.read_csv(\"../data_folder/filled_groundwater_old.csv\")\n",
    "df_water = df_water.drop([\"Unnamed: 0\"], 1)\n",
    "df_water.head()"
   ]
  },
  {
   "cell_type": "code",
   "execution_count": 3,
   "metadata": {},
   "outputs": [],
   "source": [
    "df_water = df_water.groupby(\"State\").mean()\n",
    "df_water = df_water.reset_index()"
   ]
  },
  {
   "cell_type": "code",
   "execution_count": 4,
   "metadata": {},
   "outputs": [
    {
     "data": {
      "text/html": [
       "<div>\n",
       "<style scoped>\n",
       "    .dataframe tbody tr th:only-of-type {\n",
       "        vertical-align: middle;\n",
       "    }\n",
       "\n",
       "    .dataframe tbody tr th {\n",
       "        vertical-align: top;\n",
       "    }\n",
       "\n",
       "    .dataframe thead th {\n",
       "        text-align: right;\n",
       "    }\n",
       "</style>\n",
       "<table border=\"1\" class=\"dataframe\">\n",
       "  <thead>\n",
       "    <tr style=\"text-align: right;\">\n",
       "      <th></th>\n",
       "      <th>State</th>\n",
       "      <th>B.O.D. (mg/l) : Max : &lt; 3 mg/l</th>\n",
       "      <th>B.O.D. (mg/l) : Mean : &lt; 3 mg/l</th>\n",
       "      <th>B.O.D. (mg/l) : Min : &lt; 3 mg/l</th>\n",
       "      <th>CONDUCTIVITY (µmhos/cm) : Max</th>\n",
       "      <th>CONDUCTIVITY (µmhos/cm) : Mean</th>\n",
       "      <th>CONDUCTIVITY (µmhos/cm) : Min</th>\n",
       "      <th>FECAL COLIFORM (MPN/100ml) : Max : &lt; 2500 MPN/100ml</th>\n",
       "      <th>FECAL COLIFORM (MPN/100ml) : Mean : &lt; 2500 MPN/100ml</th>\n",
       "      <th>FECAL COLIFORM (MPN/100ml) : Min : &lt; 2500 MPN/100ml</th>\n",
       "      <th>...</th>\n",
       "      <th>FECAL COLIFORM (MPN/100ml) : Max : &lt; 2500 MPN/100ml_imp</th>\n",
       "      <th>FECAL COLIFORM (MPN/100ml) : Mean : &lt; 2500 MPN/100ml_imp</th>\n",
       "      <th>FECAL COLIFORM (MPN/100ml) : Min : &lt; 2500 MPN/100ml_imp</th>\n",
       "      <th>TEMPERATURE ºC : Max_imp</th>\n",
       "      <th>TEMPERATURE ºC : Mean_imp</th>\n",
       "      <th>TEMPERATURE ºC : Min_imp</th>\n",
       "      <th>TOTAL COLIFORM (MPN/100ml) : Max : &lt; 5000 MPN/100ml_imp</th>\n",
       "      <th>TOTAL COLIFORM (MPN/100ml) : Mean : &lt; 5000 MPN/100ml_imp</th>\n",
       "      <th>TOTAL COLIFORM (MPN/100ml) : Min : &lt; 5000 MPN/100ml_imp</th>\n",
       "      <th>STATION CODE</th>\n",
       "    </tr>\n",
       "  </thead>\n",
       "  <tbody>\n",
       "    <tr>\n",
       "      <th>0</th>\n",
       "      <td>andhra_pradesh</td>\n",
       "      <td>6.927521</td>\n",
       "      <td>6.828362</td>\n",
       "      <td>6.670483</td>\n",
       "      <td>1820.433333</td>\n",
       "      <td>1739.200000</td>\n",
       "      <td>1653.466667</td>\n",
       "      <td>962.695753</td>\n",
       "      <td>446.625451</td>\n",
       "      <td>244.107556</td>\n",
       "      <td>...</td>\n",
       "      <td>825.250998</td>\n",
       "      <td>478.928111</td>\n",
       "      <td>250.353149</td>\n",
       "      <td>21.770000</td>\n",
       "      <td>20.880000</td>\n",
       "      <td>20.500000</td>\n",
       "      <td>3050.610621</td>\n",
       "      <td>1007.247458</td>\n",
       "      <td>358.558418</td>\n",
       "      <td>1853.366667</td>\n",
       "    </tr>\n",
       "    <tr>\n",
       "      <th>1</th>\n",
       "      <td>assam</td>\n",
       "      <td>1.793548</td>\n",
       "      <td>1.322581</td>\n",
       "      <td>0.806452</td>\n",
       "      <td>775.161290</td>\n",
       "      <td>620.419355</td>\n",
       "      <td>465.064516</td>\n",
       "      <td>471.096774</td>\n",
       "      <td>236.645161</td>\n",
       "      <td>2.129032</td>\n",
       "      <td>...</td>\n",
       "      <td>471.096774</td>\n",
       "      <td>236.645161</td>\n",
       "      <td>2.129032</td>\n",
       "      <td>26.032258</td>\n",
       "      <td>24.258065</td>\n",
       "      <td>22.477419</td>\n",
       "      <td>7755.387097</td>\n",
       "      <td>3947.258065</td>\n",
       "      <td>139.000000</td>\n",
       "      <td>2022.322581</td>\n",
       "    </tr>\n",
       "    <tr>\n",
       "      <th>2</th>\n",
       "      <td>bihar</td>\n",
       "      <td>2.924647</td>\n",
       "      <td>2.738510</td>\n",
       "      <td>2.025216</td>\n",
       "      <td>950.830966</td>\n",
       "      <td>926.022177</td>\n",
       "      <td>882.850741</td>\n",
       "      <td>442.536722</td>\n",
       "      <td>235.790368</td>\n",
       "      <td>128.717209</td>\n",
       "      <td>...</td>\n",
       "      <td>419.280994</td>\n",
       "      <td>243.963583</td>\n",
       "      <td>128.377768</td>\n",
       "      <td>24.560976</td>\n",
       "      <td>24.560976</td>\n",
       "      <td>24.560976</td>\n",
       "      <td>3138.792146</td>\n",
       "      <td>899.515502</td>\n",
       "      <td>192.003142</td>\n",
       "      <td>2426.365854</td>\n",
       "    </tr>\n",
       "    <tr>\n",
       "      <th>3</th>\n",
       "      <td>chattissgarh</td>\n",
       "      <td>1.931162</td>\n",
       "      <td>1.422900</td>\n",
       "      <td>0.866423</td>\n",
       "      <td>946.802462</td>\n",
       "      <td>894.067544</td>\n",
       "      <td>839.408293</td>\n",
       "      <td>2415.640224</td>\n",
       "      <td>942.257318</td>\n",
       "      <td>555.463450</td>\n",
       "      <td>...</td>\n",
       "      <td>1887.502304</td>\n",
       "      <td>1088.834101</td>\n",
       "      <td>562.276498</td>\n",
       "      <td>27.884556</td>\n",
       "      <td>27.067244</td>\n",
       "      <td>26.237631</td>\n",
       "      <td>1444.938644</td>\n",
       "      <td>419.123729</td>\n",
       "      <td>90.612542</td>\n",
       "      <td>2551.500000</td>\n",
       "    </tr>\n",
       "    <tr>\n",
       "      <th>4</th>\n",
       "      <td>daman_diu_dadra_nagar_haveli</td>\n",
       "      <td>4.118307</td>\n",
       "      <td>4.345917</td>\n",
       "      <td>3.454296</td>\n",
       "      <td>2422.166667</td>\n",
       "      <td>1896.666667</td>\n",
       "      <td>1354.083333</td>\n",
       "      <td>1380.070611</td>\n",
       "      <td>569.464280</td>\n",
       "      <td>348.413808</td>\n",
       "      <td>...</td>\n",
       "      <td>1102.959677</td>\n",
       "      <td>637.069892</td>\n",
       "      <td>329.911290</td>\n",
       "      <td>31.500000</td>\n",
       "      <td>31.350000</td>\n",
       "      <td>31.166667</td>\n",
       "      <td>5948.077684</td>\n",
       "      <td>1697.598870</td>\n",
       "      <td>354.635593</td>\n",
       "      <td>2368.583333</td>\n",
       "    </tr>\n",
       "  </tbody>\n",
       "</table>\n",
       "<p>5 rows × 38 columns</p>\n",
       "</div>"
      ],
      "text/plain": [
       "                          State  B.O.D. (mg/l) : Max : < 3 mg/l  \\\n",
       "0                andhra_pradesh                        6.927521   \n",
       "1                         assam                        1.793548   \n",
       "2                         bihar                        2.924647   \n",
       "3                  chattissgarh                        1.931162   \n",
       "4  daman_diu_dadra_nagar_haveli                        4.118307   \n",
       "\n",
       "   B.O.D. (mg/l) : Mean : < 3 mg/l  B.O.D. (mg/l) : Min : < 3 mg/l  \\\n",
       "0                         6.828362                        6.670483   \n",
       "1                         1.322581                        0.806452   \n",
       "2                         2.738510                        2.025216   \n",
       "3                         1.422900                        0.866423   \n",
       "4                         4.345917                        3.454296   \n",
       "\n",
       "   CONDUCTIVITY (µmhos/cm) : Max  CONDUCTIVITY (µmhos/cm) : Mean  \\\n",
       "0                    1820.433333                     1739.200000   \n",
       "1                     775.161290                      620.419355   \n",
       "2                     950.830966                      926.022177   \n",
       "3                     946.802462                      894.067544   \n",
       "4                    2422.166667                     1896.666667   \n",
       "\n",
       "   CONDUCTIVITY (µmhos/cm) : Min  \\\n",
       "0                    1653.466667   \n",
       "1                     465.064516   \n",
       "2                     882.850741   \n",
       "3                     839.408293   \n",
       "4                    1354.083333   \n",
       "\n",
       "   FECAL COLIFORM (MPN/100ml) : Max : < 2500 MPN/100ml  \\\n",
       "0                                         962.695753     \n",
       "1                                         471.096774     \n",
       "2                                         442.536722     \n",
       "3                                        2415.640224     \n",
       "4                                        1380.070611     \n",
       "\n",
       "   FECAL COLIFORM (MPN/100ml) : Mean : < 2500 MPN/100ml  \\\n",
       "0                                         446.625451      \n",
       "1                                         236.645161      \n",
       "2                                         235.790368      \n",
       "3                                         942.257318      \n",
       "4                                         569.464280      \n",
       "\n",
       "   FECAL COLIFORM (MPN/100ml) : Min : < 2500 MPN/100ml  ...  \\\n",
       "0                                         244.107556    ...   \n",
       "1                                           2.129032    ...   \n",
       "2                                         128.717209    ...   \n",
       "3                                         555.463450    ...   \n",
       "4                                         348.413808    ...   \n",
       "\n",
       "   FECAL COLIFORM (MPN/100ml) : Max : < 2500 MPN/100ml_imp  \\\n",
       "0                                         825.250998         \n",
       "1                                         471.096774         \n",
       "2                                         419.280994         \n",
       "3                                        1887.502304         \n",
       "4                                        1102.959677         \n",
       "\n",
       "   FECAL COLIFORM (MPN/100ml) : Mean : < 2500 MPN/100ml_imp  \\\n",
       "0                                         478.928111          \n",
       "1                                         236.645161          \n",
       "2                                         243.963583          \n",
       "3                                        1088.834101          \n",
       "4                                         637.069892          \n",
       "\n",
       "   FECAL COLIFORM (MPN/100ml) : Min : < 2500 MPN/100ml_imp  \\\n",
       "0                                         250.353149         \n",
       "1                                           2.129032         \n",
       "2                                         128.377768         \n",
       "3                                         562.276498         \n",
       "4                                         329.911290         \n",
       "\n",
       "   TEMPERATURE ºC : Max_imp  TEMPERATURE ºC : Mean_imp  \\\n",
       "0                 21.770000                  20.880000   \n",
       "1                 26.032258                  24.258065   \n",
       "2                 24.560976                  24.560976   \n",
       "3                 27.884556                  27.067244   \n",
       "4                 31.500000                  31.350000   \n",
       "\n",
       "   TEMPERATURE ºC : Min_imp  \\\n",
       "0                 20.500000   \n",
       "1                 22.477419   \n",
       "2                 24.560976   \n",
       "3                 26.237631   \n",
       "4                 31.166667   \n",
       "\n",
       "   TOTAL COLIFORM (MPN/100ml) : Max : < 5000 MPN/100ml_imp  \\\n",
       "0                                        3050.610621         \n",
       "1                                        7755.387097         \n",
       "2                                        3138.792146         \n",
       "3                                        1444.938644         \n",
       "4                                        5948.077684         \n",
       "\n",
       "   TOTAL COLIFORM (MPN/100ml) : Mean : < 5000 MPN/100ml_imp  \\\n",
       "0                                        1007.247458          \n",
       "1                                        3947.258065          \n",
       "2                                         899.515502          \n",
       "3                                         419.123729          \n",
       "4                                        1697.598870          \n",
       "\n",
       "   TOTAL COLIFORM (MPN/100ml) : Min : < 5000 MPN/100ml_imp  STATION CODE  \n",
       "0                                         358.558418         1853.366667  \n",
       "1                                         139.000000         2022.322581  \n",
       "2                                         192.003142         2426.365854  \n",
       "3                                          90.612542         2551.500000  \n",
       "4                                         354.635593         2368.583333  \n",
       "\n",
       "[5 rows x 38 columns]"
      ]
     },
     "execution_count": 4,
     "metadata": {},
     "output_type": "execute_result"
    }
   ],
   "source": [
    "df_water.head()"
   ]
  },
  {
   "cell_type": "code",
   "execution_count": 5,
   "metadata": {},
   "outputs": [
    {
     "data": {
      "text/html": [
       "<div>\n",
       "<style scoped>\n",
       "    .dataframe tbody tr th:only-of-type {\n",
       "        vertical-align: middle;\n",
       "    }\n",
       "\n",
       "    .dataframe tbody tr th {\n",
       "        vertical-align: top;\n",
       "    }\n",
       "\n",
       "    .dataframe thead th {\n",
       "        text-align: right;\n",
       "    }\n",
       "</style>\n",
       "<table border=\"1\" class=\"dataframe\">\n",
       "  <thead>\n",
       "    <tr style=\"text-align: right;\">\n",
       "      <th></th>\n",
       "      <th>State</th>\n",
       "      <th>B.O.D. (mg/l) : Mean : &lt; 3 mg/l</th>\n",
       "      <th>CONDUCTIVITY (µmhos/cm) : Mean</th>\n",
       "      <th>FECAL COLIFORM (MPN/100ml) : Mean : &lt; 2500 MPN/100ml</th>\n",
       "      <th>NITRATE- N+ NITRITE-N (mg/l) : Mean</th>\n",
       "      <th>TEMPERATURE ºC : Mean</th>\n",
       "      <th>TOTAL COLIFORM (MPN/100ml) : Mean : &lt; 5000 MPN/100ml</th>\n",
       "      <th>pH : Mean : 6.5-8.5</th>\n",
       "      <th>B.O.D. (mg/l) : Mean : &lt; 3 mg/l_imp</th>\n",
       "      <th>CONDUCTIVITY (µmhos/cm) : Mean_imp</th>\n",
       "      <th>FECAL COLIFORM (MPN/100ml) : Mean : &lt; 2500 MPN/100ml_imp</th>\n",
       "      <th>TEMPERATURE ºC : Mean_imp</th>\n",
       "      <th>TOTAL COLIFORM (MPN/100ml) : Mean : &lt; 5000 MPN/100ml_imp</th>\n",
       "    </tr>\n",
       "  </thead>\n",
       "  <tbody>\n",
       "    <tr>\n",
       "      <th>0</th>\n",
       "      <td>andhra_pradesh</td>\n",
       "      <td>6.828362</td>\n",
       "      <td>1739.200000</td>\n",
       "      <td>446.625451</td>\n",
       "      <td>3.053333</td>\n",
       "      <td>20.880000</td>\n",
       "      <td>828.111645</td>\n",
       "      <td>7.606667</td>\n",
       "      <td>6.814779</td>\n",
       "      <td>1739.200000</td>\n",
       "      <td>478.928111</td>\n",
       "      <td>20.880000</td>\n",
       "      <td>1007.247458</td>\n",
       "    </tr>\n",
       "    <tr>\n",
       "      <th>1</th>\n",
       "      <td>assam</td>\n",
       "      <td>1.322581</td>\n",
       "      <td>620.419355</td>\n",
       "      <td>236.645161</td>\n",
       "      <td>2.919355</td>\n",
       "      <td>24.258065</td>\n",
       "      <td>3947.258065</td>\n",
       "      <td>6.509677</td>\n",
       "      <td>1.322581</td>\n",
       "      <td>620.419355</td>\n",
       "      <td>236.645161</td>\n",
       "      <td>24.258065</td>\n",
       "      <td>3947.258065</td>\n",
       "    </tr>\n",
       "    <tr>\n",
       "      <th>2</th>\n",
       "      <td>bihar</td>\n",
       "      <td>2.738510</td>\n",
       "      <td>926.022177</td>\n",
       "      <td>235.790368</td>\n",
       "      <td>0.000000</td>\n",
       "      <td>24.560976</td>\n",
       "      <td>825.871095</td>\n",
       "      <td>7.478049</td>\n",
       "      <td>2.623894</td>\n",
       "      <td>922.836645</td>\n",
       "      <td>243.963583</td>\n",
       "      <td>24.560976</td>\n",
       "      <td>899.515502</td>\n",
       "    </tr>\n",
       "    <tr>\n",
       "      <th>3</th>\n",
       "      <td>chattissgarh</td>\n",
       "      <td>1.422900</td>\n",
       "      <td>894.067544</td>\n",
       "      <td>942.257318</td>\n",
       "      <td>0.490000</td>\n",
       "      <td>27.066654</td>\n",
       "      <td>415.843539</td>\n",
       "      <td>7.310000</td>\n",
       "      <td>1.404779</td>\n",
       "      <td>893.665784</td>\n",
       "      <td>1088.834101</td>\n",
       "      <td>27.067244</td>\n",
       "      <td>419.123729</td>\n",
       "    </tr>\n",
       "    <tr>\n",
       "      <th>4</th>\n",
       "      <td>daman_diu_dadra_nagar_haveli</td>\n",
       "      <td>4.345917</td>\n",
       "      <td>1896.666667</td>\n",
       "      <td>569.464280</td>\n",
       "      <td>3.058333</td>\n",
       "      <td>31.350000</td>\n",
       "      <td>1539.934531</td>\n",
       "      <td>6.925000</td>\n",
       "      <td>4.134587</td>\n",
       "      <td>1896.666667</td>\n",
       "      <td>637.069892</td>\n",
       "      <td>31.350000</td>\n",
       "      <td>1697.598870</td>\n",
       "    </tr>\n",
       "  </tbody>\n",
       "</table>\n",
       "</div>"
      ],
      "text/plain": [
       "                          State  B.O.D. (mg/l) : Mean : < 3 mg/l  \\\n",
       "0                andhra_pradesh                         6.828362   \n",
       "1                         assam                         1.322581   \n",
       "2                         bihar                         2.738510   \n",
       "3                  chattissgarh                         1.422900   \n",
       "4  daman_diu_dadra_nagar_haveli                         4.345917   \n",
       "\n",
       "   CONDUCTIVITY (µmhos/cm) : Mean  \\\n",
       "0                     1739.200000   \n",
       "1                      620.419355   \n",
       "2                      926.022177   \n",
       "3                      894.067544   \n",
       "4                     1896.666667   \n",
       "\n",
       "   FECAL COLIFORM (MPN/100ml) : Mean : < 2500 MPN/100ml  \\\n",
       "0                                         446.625451      \n",
       "1                                         236.645161      \n",
       "2                                         235.790368      \n",
       "3                                         942.257318      \n",
       "4                                         569.464280      \n",
       "\n",
       "   NITRATE- N+ NITRITE-N (mg/l) : Mean  TEMPERATURE ºC : Mean  \\\n",
       "0                             3.053333              20.880000   \n",
       "1                             2.919355              24.258065   \n",
       "2                             0.000000              24.560976   \n",
       "3                             0.490000              27.066654   \n",
       "4                             3.058333              31.350000   \n",
       "\n",
       "   TOTAL COLIFORM (MPN/100ml) : Mean : < 5000 MPN/100ml  pH : Mean : 6.5-8.5  \\\n",
       "0                                         828.111645                7.606667   \n",
       "1                                        3947.258065                6.509677   \n",
       "2                                         825.871095                7.478049   \n",
       "3                                         415.843539                7.310000   \n",
       "4                                        1539.934531                6.925000   \n",
       "\n",
       "   B.O.D. (mg/l) : Mean : < 3 mg/l_imp  CONDUCTIVITY (µmhos/cm) : Mean_imp  \\\n",
       "0                             6.814779                         1739.200000   \n",
       "1                             1.322581                          620.419355   \n",
       "2                             2.623894                          922.836645   \n",
       "3                             1.404779                          893.665784   \n",
       "4                             4.134587                         1896.666667   \n",
       "\n",
       "   FECAL COLIFORM (MPN/100ml) : Mean : < 2500 MPN/100ml_imp  \\\n",
       "0                                         478.928111          \n",
       "1                                         236.645161          \n",
       "2                                         243.963583          \n",
       "3                                        1088.834101          \n",
       "4                                         637.069892          \n",
       "\n",
       "   TEMPERATURE ºC : Mean_imp  \\\n",
       "0                  20.880000   \n",
       "1                  24.258065   \n",
       "2                  24.560976   \n",
       "3                  27.067244   \n",
       "4                  31.350000   \n",
       "\n",
       "   TOTAL COLIFORM (MPN/100ml) : Mean : < 5000 MPN/100ml_imp  \n",
       "0                                        1007.247458         \n",
       "1                                        3947.258065         \n",
       "2                                         899.515502         \n",
       "3                                         419.123729         \n",
       "4                                        1697.598870         "
      ]
     },
     "execution_count": 5,
     "metadata": {},
     "output_type": "execute_result"
    }
   ],
   "source": [
    "df_water = df_water.drop([\"B.O.D. (mg/l) : Max : < 3 mg/l\", \"B.O.D. (mg/l) : Min : < 3 mg/l\",\n",
    "             \"CONDUCTIVITY (µmhos/cm) : Max\", \"CONDUCTIVITY (µmhos/cm) : Min\",\n",
    "             \"FECAL COLIFORM (MPN/100ml) : Max : < 2500 MPN/100ml\", \"FECAL COLIFORM (MPN/100ml) : Min : < 2500 MPN/100ml\",\n",
    "             \"NITRATE- N+ NITRITE-N (mg/l) : Max\", \"NITRATE- N+ NITRITE-N (mg/l) : Min\",\n",
    "             \"TEMPERATURE ºC : Max\", \"TEMPERATURE ºC : Min\",\n",
    "              \"TOTAL COLIFORM (MPN/100ml) : Max : < 5000 MPN/100ml\", \"TOTAL COLIFORM (MPN/100ml) : Min : < 5000 MPN/100ml\",\n",
    "              \"pH : Max : 6.5-8.5\", \"pH : Min : 6.5-8.5\",\n",
    "              \"B.O.D. (mg/l) : Max : < 3 mg/l_imp\", \"B.O.D. (mg/l) : Min : < 3 mg/l_imp\",\n",
    "              \"CONDUCTIVITY (µmhos/cm) : Max_imp\", \"CONDUCTIVITY (µmhos/cm) : Min_imp\",\n",
    "              \"FECAL COLIFORM (MPN/100ml) : Max : < 2500 MPN/100ml_imp\", \"FECAL COLIFORM (MPN/100ml) : Min : < 2500 MPN/100ml_imp\",\n",
    "              \"TEMPERATURE ºC : Max_imp\", \"TEMPERATURE ºC : Min_imp\",\n",
    "              \"TOTAL COLIFORM (MPN/100ml) : Max : < 5000 MPN/100ml_imp\", \"TOTAL COLIFORM (MPN/100ml) : Min : < 5000 MPN/100ml_imp\",\n",
    "              \"STATION CODE\"], 1)\n",
    "\n",
    "df_water.head()"
   ]
  },
  {
   "cell_type": "code",
   "execution_count": 7,
   "metadata": {},
   "outputs": [],
   "source": [
    "df_water.to_csv(\"../data_folder/crops_gw.csv\")"
   ]
  },
  {
   "cell_type": "code",
   "execution_count": 8,
   "metadata": {},
   "outputs": [
    {
     "data": {
      "text/html": [
       "<div>\n",
       "<style scoped>\n",
       "    .dataframe tbody tr th:only-of-type {\n",
       "        vertical-align: middle;\n",
       "    }\n",
       "\n",
       "    .dataframe tbody tr th {\n",
       "        vertical-align: top;\n",
       "    }\n",
       "\n",
       "    .dataframe thead th {\n",
       "        text-align: right;\n",
       "    }\n",
       "</style>\n",
       "<table border=\"1\" class=\"dataframe\">\n",
       "  <thead>\n",
       "    <tr style=\"text-align: right;\">\n",
       "      <th></th>\n",
       "      <th>State_Name</th>\n",
       "      <th>District_Name</th>\n",
       "      <th>Crop_Year</th>\n",
       "      <th>Season</th>\n",
       "      <th>Crop</th>\n",
       "      <th>Area</th>\n",
       "      <th>Production</th>\n",
       "    </tr>\n",
       "  </thead>\n",
       "  <tbody>\n",
       "    <tr>\n",
       "      <th>927</th>\n",
       "      <td>Andhra Pradesh</td>\n",
       "      <td>ANANTAPUR</td>\n",
       "      <td>2014</td>\n",
       "      <td>Kharif</td>\n",
       "      <td>Arhar/Tur</td>\n",
       "      <td>37562.0</td>\n",
       "      <td>4845.0</td>\n",
       "    </tr>\n",
       "    <tr>\n",
       "      <th>928</th>\n",
       "      <td>Andhra Pradesh</td>\n",
       "      <td>ANANTAPUR</td>\n",
       "      <td>2014</td>\n",
       "      <td>Kharif</td>\n",
       "      <td>Bajra</td>\n",
       "      <td>1752.0</td>\n",
       "      <td>1028.0</td>\n",
       "    </tr>\n",
       "    <tr>\n",
       "      <th>929</th>\n",
       "      <td>Andhra Pradesh</td>\n",
       "      <td>ANANTAPUR</td>\n",
       "      <td>2014</td>\n",
       "      <td>Kharif</td>\n",
       "      <td>Brinjal</td>\n",
       "      <td>320.0</td>\n",
       "      <td>7596.0</td>\n",
       "    </tr>\n",
       "    <tr>\n",
       "      <th>930</th>\n",
       "      <td>Andhra Pradesh</td>\n",
       "      <td>ANANTAPUR</td>\n",
       "      <td>2014</td>\n",
       "      <td>Kharif</td>\n",
       "      <td>Cabbage</td>\n",
       "      <td>10.0</td>\n",
       "      <td>123.0</td>\n",
       "    </tr>\n",
       "    <tr>\n",
       "      <th>931</th>\n",
       "      <td>Andhra Pradesh</td>\n",
       "      <td>ANANTAPUR</td>\n",
       "      <td>2014</td>\n",
       "      <td>Kharif</td>\n",
       "      <td>Cashewnut</td>\n",
       "      <td>19.0</td>\n",
       "      <td>7.0</td>\n",
       "    </tr>\n",
       "  </tbody>\n",
       "</table>\n",
       "</div>"
      ],
      "text/plain": [
       "         State_Name District_Name  Crop_Year       Season       Crop     Area  \\\n",
       "927  Andhra Pradesh     ANANTAPUR       2014  Kharif       Arhar/Tur  37562.0   \n",
       "928  Andhra Pradesh     ANANTAPUR       2014  Kharif           Bajra   1752.0   \n",
       "929  Andhra Pradesh     ANANTAPUR       2014  Kharif         Brinjal    320.0   \n",
       "930  Andhra Pradesh     ANANTAPUR       2014  Kharif         Cabbage     10.0   \n",
       "931  Andhra Pradesh     ANANTAPUR       2014  Kharif       Cashewnut     19.0   \n",
       "\n",
       "     Production  \n",
       "927      4845.0  \n",
       "928      1028.0  \n",
       "929      7596.0  \n",
       "930       123.0  \n",
       "931         7.0  "
      ]
     },
     "execution_count": 8,
     "metadata": {},
     "output_type": "execute_result"
    }
   ],
   "source": [
    "df = pd.read_csv(\"../data_folder/apy.csv\")\n",
    "df_2014 = df[df[\"Crop_Year\"] == 2014]\n",
    "df_2014.head()"
   ]
  },
  {
   "cell_type": "code",
   "execution_count": 9,
   "metadata": {},
   "outputs": [],
   "source": [
    "df_2014 = df_2014.drop([\"District_Name\", \"Crop_Year\", \"Crop\"], 1)"
   ]
  },
  {
   "cell_type": "code",
   "execution_count": 10,
   "metadata": {},
   "outputs": [
    {
     "data": {
      "text/html": [
       "<div>\n",
       "<style scoped>\n",
       "    .dataframe tbody tr th:only-of-type {\n",
       "        vertical-align: middle;\n",
       "    }\n",
       "\n",
       "    .dataframe tbody tr th {\n",
       "        vertical-align: top;\n",
       "    }\n",
       "\n",
       "    .dataframe thead th {\n",
       "        text-align: right;\n",
       "    }\n",
       "</style>\n",
       "<table border=\"1\" class=\"dataframe\">\n",
       "  <thead>\n",
       "    <tr style=\"text-align: right;\">\n",
       "      <th></th>\n",
       "      <th>State_Name</th>\n",
       "      <th>Area</th>\n",
       "      <th>Production</th>\n",
       "    </tr>\n",
       "  </thead>\n",
       "  <tbody>\n",
       "    <tr>\n",
       "      <th>0</th>\n",
       "      <td>Andhra Pradesh</td>\n",
       "      <td>9394114.0</td>\n",
       "      <td>2.132282e+09</td>\n",
       "    </tr>\n",
       "    <tr>\n",
       "      <th>1</th>\n",
       "      <td>Arunachal Pradesh</td>\n",
       "      <td>258265.0</td>\n",
       "      <td>4.813420e+05</td>\n",
       "    </tr>\n",
       "    <tr>\n",
       "      <th>2</th>\n",
       "      <td>Assam</td>\n",
       "      <td>5860445.0</td>\n",
       "      <td>1.532749e+07</td>\n",
       "    </tr>\n",
       "    <tr>\n",
       "      <th>3</th>\n",
       "      <td>Bihar</td>\n",
       "      <td>7150228.0</td>\n",
       "      <td>3.203288e+07</td>\n",
       "    </tr>\n",
       "    <tr>\n",
       "      <th>4</th>\n",
       "      <td>Chhattisgarh</td>\n",
       "      <td>5622988.0</td>\n",
       "      <td>9.516550e+06</td>\n",
       "    </tr>\n",
       "  </tbody>\n",
       "</table>\n",
       "</div>"
      ],
      "text/plain": [
       "          State_Name       Area    Production\n",
       "0     Andhra Pradesh  9394114.0  2.132282e+09\n",
       "1  Arunachal Pradesh   258265.0  4.813420e+05\n",
       "2              Assam  5860445.0  1.532749e+07\n",
       "3              Bihar  7150228.0  3.203288e+07\n",
       "4       Chhattisgarh  5622988.0  9.516550e+06"
      ]
     },
     "execution_count": 10,
     "metadata": {},
     "output_type": "execute_result"
    }
   ],
   "source": [
    "df_2014 = df_2014.groupby('State_Name', as_index=False).sum()\n",
    "df_2014.head()"
   ]
  },
  {
   "cell_type": "code",
   "execution_count": 11,
   "metadata": {},
   "outputs": [
    {
     "data": {
      "text/html": [
       "<div>\n",
       "<style scoped>\n",
       "    .dataframe tbody tr th:only-of-type {\n",
       "        vertical-align: middle;\n",
       "    }\n",
       "\n",
       "    .dataframe tbody tr th {\n",
       "        vertical-align: top;\n",
       "    }\n",
       "\n",
       "    .dataframe thead th {\n",
       "        text-align: right;\n",
       "    }\n",
       "</style>\n",
       "<table border=\"1\" class=\"dataframe\">\n",
       "  <thead>\n",
       "    <tr style=\"text-align: right;\">\n",
       "      <th></th>\n",
       "      <th>State_Name</th>\n",
       "      <th>Area</th>\n",
       "      <th>Production</th>\n",
       "      <th>Prod/Area</th>\n",
       "    </tr>\n",
       "  </thead>\n",
       "  <tbody>\n",
       "    <tr>\n",
       "      <th>0</th>\n",
       "      <td>Andhra Pradesh</td>\n",
       "      <td>9394114.0</td>\n",
       "      <td>2.132282e+09</td>\n",
       "      <td>226.980666</td>\n",
       "    </tr>\n",
       "    <tr>\n",
       "      <th>1</th>\n",
       "      <td>Arunachal Pradesh</td>\n",
       "      <td>258265.0</td>\n",
       "      <td>4.813420e+05</td>\n",
       "      <td>1.863752</td>\n",
       "    </tr>\n",
       "    <tr>\n",
       "      <th>2</th>\n",
       "      <td>Assam</td>\n",
       "      <td>5860445.0</td>\n",
       "      <td>1.532749e+07</td>\n",
       "      <td>2.615415</td>\n",
       "    </tr>\n",
       "    <tr>\n",
       "      <th>3</th>\n",
       "      <td>Bihar</td>\n",
       "      <td>7150228.0</td>\n",
       "      <td>3.203288e+07</td>\n",
       "      <td>4.479981</td>\n",
       "    </tr>\n",
       "    <tr>\n",
       "      <th>4</th>\n",
       "      <td>Chhattisgarh</td>\n",
       "      <td>5622988.0</td>\n",
       "      <td>9.516550e+06</td>\n",
       "      <td>1.692436</td>\n",
       "    </tr>\n",
       "  </tbody>\n",
       "</table>\n",
       "</div>"
      ],
      "text/plain": [
       "          State_Name       Area    Production   Prod/Area\n",
       "0     Andhra Pradesh  9394114.0  2.132282e+09  226.980666\n",
       "1  Arunachal Pradesh   258265.0  4.813420e+05    1.863752\n",
       "2              Assam  5860445.0  1.532749e+07    2.615415\n",
       "3              Bihar  7150228.0  3.203288e+07    4.479981\n",
       "4       Chhattisgarh  5622988.0  9.516550e+06    1.692436"
      ]
     },
     "execution_count": 11,
     "metadata": {},
     "output_type": "execute_result"
    }
   ],
   "source": [
    "df_2014[\"Prod/Area\"] = df_2014[\"Production\"]/df_2014[\"Area\"]\n",
    "df_2014.head()"
   ]
  },
  {
   "cell_type": "code",
   "execution_count": 12,
   "metadata": {},
   "outputs": [],
   "source": [
    "df_2014.to_csv(\"../data_folder/agri.csv\")"
   ]
  },
  {
   "cell_type": "code",
   "execution_count": 14,
   "metadata": {},
   "outputs": [
    {
     "data": {
      "text/html": [
       "<div>\n",
       "<style scoped>\n",
       "    .dataframe tbody tr th:only-of-type {\n",
       "        vertical-align: middle;\n",
       "    }\n",
       "\n",
       "    .dataframe tbody tr th {\n",
       "        vertical-align: top;\n",
       "    }\n",
       "\n",
       "    .dataframe thead th {\n",
       "        text-align: right;\n",
       "    }\n",
       "</style>\n",
       "<table border=\"1\" class=\"dataframe\">\n",
       "  <thead>\n",
       "    <tr style=\"text-align: right;\">\n",
       "      <th></th>\n",
       "      <th>State</th>\n",
       "      <th>B.O.D. (mg/l) : Mean : &lt; 3 mg/l</th>\n",
       "      <th>CONDUCTIVITY (µmhos/cm) : Mean</th>\n",
       "      <th>FECAL COLIFORM (MPN/100ml) : Mean : &lt; 2500 MPN/100ml</th>\n",
       "      <th>NITRATE- N+ NITRITE-N (mg/l) : Mean</th>\n",
       "      <th>TEMPERATURE ºC : Mean</th>\n",
       "      <th>TOTAL COLIFORM (MPN/100ml) : Mean : &lt; 5000 MPN/100ml</th>\n",
       "      <th>pH : Mean : 6.5-8.5</th>\n",
       "      <th>B.O.D. (mg/l) : Mean : &lt; 3 mg/l_imp</th>\n",
       "      <th>CONDUCTIVITY (µmhos/cm) : Mean_imp</th>\n",
       "      <th>FECAL COLIFORM (MPN/100ml) : Mean : &lt; 2500 MPN/100ml_imp</th>\n",
       "      <th>TEMPERATURE ºC : Mean_imp</th>\n",
       "      <th>TOTAL COLIFORM (MPN/100ml) : Mean : &lt; 5000 MPN/100ml_imp</th>\n",
       "      <th>Agricultural Output</th>\n",
       "    </tr>\n",
       "  </thead>\n",
       "  <tbody>\n",
       "    <tr>\n",
       "      <th>0</th>\n",
       "      <td>assam</td>\n",
       "      <td>1.322581</td>\n",
       "      <td>620.419355</td>\n",
       "      <td>236.645161</td>\n",
       "      <td>2.919355</td>\n",
       "      <td>24.258065</td>\n",
       "      <td>3947.258065</td>\n",
       "      <td>6.509677</td>\n",
       "      <td>1.322581</td>\n",
       "      <td>620.419355</td>\n",
       "      <td>236.645161</td>\n",
       "      <td>24.258065</td>\n",
       "      <td>3947.258065</td>\n",
       "      <td>2.615415</td>\n",
       "    </tr>\n",
       "    <tr>\n",
       "      <th>1</th>\n",
       "      <td>bihar</td>\n",
       "      <td>2.738510</td>\n",
       "      <td>926.022177</td>\n",
       "      <td>235.790368</td>\n",
       "      <td>0.000000</td>\n",
       "      <td>24.560976</td>\n",
       "      <td>825.871095</td>\n",
       "      <td>7.478049</td>\n",
       "      <td>2.623894</td>\n",
       "      <td>922.836645</td>\n",
       "      <td>243.963583</td>\n",
       "      <td>24.560976</td>\n",
       "      <td>899.515502</td>\n",
       "      <td>4.479981</td>\n",
       "    </tr>\n",
       "    <tr>\n",
       "      <th>2</th>\n",
       "      <td>chattissgarh</td>\n",
       "      <td>1.422900</td>\n",
       "      <td>894.067544</td>\n",
       "      <td>942.257318</td>\n",
       "      <td>0.490000</td>\n",
       "      <td>27.066654</td>\n",
       "      <td>415.843538</td>\n",
       "      <td>7.310000</td>\n",
       "      <td>1.404779</td>\n",
       "      <td>893.665784</td>\n",
       "      <td>1088.834101</td>\n",
       "      <td>27.067244</td>\n",
       "      <td>419.123729</td>\n",
       "      <td>1.692436</td>\n",
       "    </tr>\n",
       "    <tr>\n",
       "      <th>3</th>\n",
       "      <td>daman_diu_dadra_nagar_haveli</td>\n",
       "      <td>4.345917</td>\n",
       "      <td>1896.666667</td>\n",
       "      <td>569.464280</td>\n",
       "      <td>3.058333</td>\n",
       "      <td>31.350000</td>\n",
       "      <td>1539.934531</td>\n",
       "      <td>6.925000</td>\n",
       "      <td>4.134587</td>\n",
       "      <td>1896.666667</td>\n",
       "      <td>637.069893</td>\n",
       "      <td>31.350000</td>\n",
       "      <td>1697.598870</td>\n",
       "      <td>1.765624</td>\n",
       "    </tr>\n",
       "    <tr>\n",
       "      <th>4</th>\n",
       "      <td>goa</td>\n",
       "      <td>0.977778</td>\n",
       "      <td>815.111111</td>\n",
       "      <td>271.813715</td>\n",
       "      <td>0.744444</td>\n",
       "      <td>30.666667</td>\n",
       "      <td>1086.510065</td>\n",
       "      <td>6.611111</td>\n",
       "      <td>0.977778</td>\n",
       "      <td>815.111111</td>\n",
       "      <td>279.407578</td>\n",
       "      <td>30.666667</td>\n",
       "      <td>991.608286</td>\n",
       "      <td>2.440942</td>\n",
       "    </tr>\n",
       "  </tbody>\n",
       "</table>\n",
       "</div>"
      ],
      "text/plain": [
       "                          State  B.O.D. (mg/l) : Mean : < 3 mg/l  \\\n",
       "0                         assam                         1.322581   \n",
       "1                         bihar                         2.738510   \n",
       "2                  chattissgarh                         1.422900   \n",
       "3  daman_diu_dadra_nagar_haveli                         4.345917   \n",
       "4                           goa                         0.977778   \n",
       "\n",
       "   CONDUCTIVITY (µmhos/cm) : Mean  \\\n",
       "0                      620.419355   \n",
       "1                      926.022177   \n",
       "2                      894.067544   \n",
       "3                     1896.666667   \n",
       "4                      815.111111   \n",
       "\n",
       "   FECAL COLIFORM (MPN/100ml) : Mean : < 2500 MPN/100ml  \\\n",
       "0                                         236.645161      \n",
       "1                                         235.790368      \n",
       "2                                         942.257318      \n",
       "3                                         569.464280      \n",
       "4                                         271.813715      \n",
       "\n",
       "   NITRATE- N+ NITRITE-N (mg/l) : Mean  TEMPERATURE ºC : Mean  \\\n",
       "0                             2.919355              24.258065   \n",
       "1                             0.000000              24.560976   \n",
       "2                             0.490000              27.066654   \n",
       "3                             3.058333              31.350000   \n",
       "4                             0.744444              30.666667   \n",
       "\n",
       "   TOTAL COLIFORM (MPN/100ml) : Mean : < 5000 MPN/100ml  pH : Mean : 6.5-8.5  \\\n",
       "0                                        3947.258065                6.509677   \n",
       "1                                         825.871095                7.478049   \n",
       "2                                         415.843538                7.310000   \n",
       "3                                        1539.934531                6.925000   \n",
       "4                                        1086.510065                6.611111   \n",
       "\n",
       "   B.O.D. (mg/l) : Mean : < 3 mg/l_imp  CONDUCTIVITY (µmhos/cm) : Mean_imp  \\\n",
       "0                             1.322581                          620.419355   \n",
       "1                             2.623894                          922.836645   \n",
       "2                             1.404779                          893.665784   \n",
       "3                             4.134587                         1896.666667   \n",
       "4                             0.977778                          815.111111   \n",
       "\n",
       "   FECAL COLIFORM (MPN/100ml) : Mean : < 2500 MPN/100ml_imp  \\\n",
       "0                                         236.645161          \n",
       "1                                         243.963583          \n",
       "2                                        1088.834101          \n",
       "3                                         637.069893          \n",
       "4                                         279.407578          \n",
       "\n",
       "   TEMPERATURE ºC : Mean_imp  \\\n",
       "0                  24.258065   \n",
       "1                  24.560976   \n",
       "2                  27.067244   \n",
       "3                  31.350000   \n",
       "4                  30.666667   \n",
       "\n",
       "   TOTAL COLIFORM (MPN/100ml) : Mean : < 5000 MPN/100ml_imp  \\\n",
       "0                                        3947.258065          \n",
       "1                                         899.515502          \n",
       "2                                         419.123729          \n",
       "3                                        1697.598870          \n",
       "4                                         991.608286          \n",
       "\n",
       "   Agricultural Output  \n",
       "0             2.615415  \n",
       "1             4.479981  \n",
       "2             1.692436  \n",
       "3             1.765624  \n",
       "4             2.440942  "
      ]
     },
     "execution_count": 14,
     "metadata": {},
     "output_type": "execute_result"
    }
   ],
   "source": [
    "df = pd.read_csv(\"../data_folder/agrivsgw.csv\")\n",
    "df.head()"
   ]
  },
  {
   "cell_type": "markdown",
   "metadata": {},
   "source": [
    "We'll now plot the features vs agricultural output for each feature to examine if there is any correlation"
   ]
  },
  {
   "cell_type": "markdown",
   "metadata": {},
   "source": [
    "## B.O.D"
   ]
  },
  {
   "cell_type": "code",
   "execution_count": 15,
   "metadata": {},
   "outputs": [
    {
     "data": {
      "text/plain": [
       "<matplotlib.axes._subplots.AxesSubplot at 0x1dd364d88d0>"
      ]
     },
     "execution_count": 15,
     "metadata": {},
     "output_type": "execute_result"
    },
    {
     "data": {
      "image/png": "[encoded data removed]",
      "text/plain": [
       "<Figure size 432x288 with 1 Axes>"
      ]
     },
     "metadata": {
      "needs_background": "light"
     },
     "output_type": "display_data"
    }
   ],
   "source": [
    "x = df[\"B.O.D. (mg/l) : Mean : < 3 mg/l\"]\n",
    "y = df[\"Agricultural Output\"]\n",
    "\n",
    "sns.scatterplot(x, y)"
   ]
  },
  {
   "cell_type": "code",
   "execution_count": 16,
   "metadata": {},
   "outputs": [
    {
     "name": "stdout",
     "output_type": "stream",
     "text": [
      "0.10397038229851739\n"
     ]
    }
   ],
   "source": [
    "cova = np.cov(x, y)[0][1]\n",
    "stdx = np.std(x)\n",
    "stdy = np.std(y)\n",
    "pear = cova/(stdx*stdy)\n",
    "print(pear)"
   ]
  },
  {
   "cell_type": "markdown",
   "metadata": {},
   "source": [
    "## CONDUCTIVITY"
   ]
  },
  {
   "cell_type": "code",
   "execution_count": 17,
   "metadata": {},
   "outputs": [
    {
     "data": {
      "text/plain": [
       "<matplotlib.axes._subplots.AxesSubplot at 0x1dd364e0550>"
      ]
     },
     "execution_count": 17,
     "metadata": {},
     "output_type": "execute_result"
    },
    {
     "data": {
      "image/png": "[encoded data removed]",
      "text/plain": [
       "<Figure size 432x288 with 1 Axes>"
      ]
     },
     "metadata": {
      "needs_background": "light"
     },
     "output_type": "display_data"
    }
   ],
   "source": [
    "x = df[\"CONDUCTIVITY (µmhos/cm) : Mean\"]\n",
    "y = df[\"Agricultural Output\"]\n",
    "\n",
    "sns.scatterplot(x, y)"
   ]
  },
  {
   "cell_type": "code",
   "execution_count": 18,
   "metadata": {},
   "outputs": [
    {
     "name": "stdout",
     "output_type": "stream",
     "text": [
      "0.23344076454096382\n"
     ]
    }
   ],
   "source": [
    "cova = np.cov(x, y)[0][1]\n",
    "stdx = np.std(x)\n",
    "stdy = np.std(y)\n",
    "pear = cova/(stdx*stdy)\n",
    "print(pear)"
   ]
  },
  {
   "cell_type": "markdown",
   "metadata": {},
   "source": [
    "## FECAL COLIFORM"
   ]
  },
  {
   "cell_type": "code",
   "execution_count": 19,
   "metadata": {},
   "outputs": [
    {
     "data": {
      "text/plain": [
       "<matplotlib.axes._subplots.AxesSubplot at 0x1dd36a41898>"
      ]
     },
     "execution_count": 19,
     "metadata": {},
     "output_type": "execute_result"
    },
    {
     "data": {
      "image/png": "[encoded data removed]",
      "text/plain": [
       "<Figure size 432x288 with 1 Axes>"
      ]
     },
     "metadata": {
      "needs_background": "light"
     },
     "output_type": "display_data"
    }
   ],
   "source": [
    "x = df[\"FECAL COLIFORM (MPN/100ml) : Mean : < 2500 MPN/100ml\"]\n",
    "y = df[\"Agricultural Output\"]\n",
    "\n",
    "sns.scatterplot(x, y)"
   ]
  },
  {
   "cell_type": "code",
   "execution_count": 20,
   "metadata": {},
   "outputs": [
    {
     "name": "stdout",
     "output_type": "stream",
     "text": [
      "-0.24499130251687254\n"
     ]
    }
   ],
   "source": [
    "cova = np.cov(x, y)[0][1]\n",
    "stdx = np.std(x)\n",
    "stdy = np.std(y)\n",
    "pear = cova/(stdx*stdy)\n",
    "print(pear)"
   ]
  },
  {
   "cell_type": "markdown",
   "metadata": {},
   "source": [
    "## NITRATE/ITE"
   ]
  },
  {
   "cell_type": "code",
   "execution_count": 21,
   "metadata": {},
   "outputs": [
    {
     "data": {
      "text/plain": [
       "<matplotlib.axes._subplots.AxesSubplot at 0x1dd374d6fd0>"
      ]
     },
     "execution_count": 21,
     "metadata": {},
     "output_type": "execute_result"
    },
    {
     "data": {
      "image/png": "[encoded data removed]",
      "text/plain": [
       "<Figure size 432x288 with 1 Axes>"
      ]
     },
     "metadata": {
      "needs_background": "light"
     },
     "output_type": "display_data"
    }
   ],
   "source": [
    "x = df[\"NITRATE- N+ NITRITE-N (mg/l) : Mean\"]\n",
    "y = df[\"Agricultural Output\"]\n",
    "\n",
    "sns.scatterplot(x, y)"
   ]
  },
  {
   "cell_type": "code",
   "execution_count": 22,
   "metadata": {},
   "outputs": [
    {
     "name": "stdout",
     "output_type": "stream",
     "text": [
      "0.19639647362136406\n"
     ]
    }
   ],
   "source": [
    "cova = np.cov(x, y)[0][1]\n",
    "stdx = np.std(x)\n",
    "stdy = np.std(y)\n",
    "pear = cova/(stdx*stdy)\n",
    "print(pear)"
   ]
  },
  {
   "cell_type": "markdown",
   "metadata": {},
   "source": [
    "## TEMPERATURE"
   ]
  },
  {
   "cell_type": "code",
   "execution_count": 23,
   "metadata": {},
   "outputs": [
    {
     "data": {
      "text/plain": [
       "<matplotlib.axes._subplots.AxesSubplot at 0x1dd37505a90>"
      ]
     },
     "execution_count": 23,
     "metadata": {},
     "output_type": "execute_result"
    },
    {
     "data": {
      "image/png": "[encoded data removed]",
      "text/plain": [
       "<Figure size 432x288 with 1 Axes>"
      ]
     },
     "metadata": {
      "needs_background": "light"
     },
     "output_type": "display_data"
    }
   ],
   "source": [
    "x = df[\"TEMPERATURE ºC : Mean\"]\n",
    "y = df[\"Agricultural Output\"]\n",
    "\n",
    "sns.scatterplot(x, y)"
   ]
  },
  {
   "cell_type": "code",
   "execution_count": 24,
   "metadata": {},
   "outputs": [
    {
     "name": "stdout",
     "output_type": "stream",
     "text": [
      "-0.5793300110513184\n"
     ]
    }
   ],
   "source": [
    "cova = np.cov(x, y)[0][1]\n",
    "stdx = np.std(x)\n",
    "stdy = np.std(y)\n",
    "pear = cova/(stdx*stdy)\n",
    "print(pear)"
   ]
  },
  {
   "cell_type": "markdown",
   "metadata": {},
   "source": [
    "## TOTAL COLIFORM"
   ]
  },
  {
   "cell_type": "code",
   "execution_count": 25,
   "metadata": {},
   "outputs": [
    {
     "data": {
      "text/plain": [
       "<matplotlib.axes._subplots.AxesSubplot at 0x1dd37588160>"
      ]
     },
     "execution_count": 25,
     "metadata": {},
     "output_type": "execute_result"
    },
    {
     "data": {
      "image/png": "[encoded data removed]",
      "text/plain": [
       "<Figure size 432x288 with 1 Axes>"
      ]
     },
     "metadata": {
      "needs_background": "light"
     },
     "output_type": "display_data"
    }
   ],
   "source": [
    "x = df[\"TOTAL COLIFORM (MPN/100ml) : Mean : < 5000 MPN/100ml\"]\n",
    "y = df[\"Agricultural Output\"]\n",
    "\n",
    "sns.scatterplot(x, y)"
   ]
  },
  {
   "cell_type": "code",
   "execution_count": 26,
   "metadata": {},
   "outputs": [
    {
     "name": "stdout",
     "output_type": "stream",
     "text": [
      "-0.1534439414081319\n"
     ]
    }
   ],
   "source": [
    "cova = np.cov(x, y)[0][1]\n",
    "stdx = np.std(x)\n",
    "stdy = np.std(y)\n",
    "pear = cova/(stdx*stdy)\n",
    "print(pear)"
   ]
  },
  {
   "cell_type": "markdown",
   "metadata": {},
   "source": [
    "## pH"
   ]
  },
  {
   "cell_type": "code",
   "execution_count": 27,
   "metadata": {},
   "outputs": [
    {
     "data": {
      "text/plain": [
       "<matplotlib.axes._subplots.AxesSubplot at 0x1dd3759e198>"
      ]
     },
     "execution_count": 27,
     "metadata": {},
     "output_type": "execute_result"
    },
    {
     "data": {
      "image/png": "[encoded data removed]",
      "text/plain": [
       "<Figure size 432x288 with 1 Axes>"
      ]
     },
     "metadata": {
      "needs_background": "light"
     },
     "output_type": "display_data"
    }
   ],
   "source": [
    "x = df[\"pH : Mean : 6.5-8.5\"]\n",
    "y = df[\"Agricultural Output\"]\n",
    "\n",
    "sns.scatterplot(x, y)"
   ]
  },
  {
   "cell_type": "code",
   "execution_count": 68,
   "metadata": {},
   "outputs": [
    {
     "name": "stdout",
     "output_type": "stream",
     "text": [
      "0.432781961083958\n"
     ]
    }
   ],
   "source": [
    "cova = np.cov(x, y)[0][1]\n",
    "stdx = np.std(x)\n",
    "stdy = np.std(y)\n",
    "pear = cova/(stdx*stdy)\n",
    "print(pear)"
   ]
  },
  {
   "cell_type": "markdown",
   "metadata": {},
   "source": [
    "From all of these, we can infer that pH and Tempertaure play the biggest role on influencing agricultural output"
   ]
  }
 ],
 "metadata": {
  "kernelspec": {
   "display_name": "Python 3",
   "language": "python",
   "name": "python3"
  },
  "language_info": {
   "codemirror_mode": {
    "name": "ipython",
    "version": 3
   },
   "file_extension": ".py",
   "mimetype": "text/x-python",
   "name": "python",
   "nbconvert_exporter": "python",
   "pygments_lexer": "ipython3",
   "version": "3.7.3"
  }
 },
 "nbformat": 4,
 "nbformat_minor": 2
}
